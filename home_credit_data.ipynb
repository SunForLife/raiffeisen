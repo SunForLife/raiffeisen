{
  "nbformat": 4,
  "nbformat_minor": 0,
  "metadata": {
    "colab": {
      "name": "HomeCredit.ipynb",
      "provenance": [],
      "collapsed_sections": [],
      "authorship_tag": "ABX9TyOOUVjncYfn7ZpFr7GfqBHi",
      "include_colab_link": true
    },
    "kernelspec": {
      "name": "python3",
      "display_name": "Python 3"
    },
    "accelerator": "GPU"
  },
  "cells": [
    {
      "cell_type": "markdown",
      "metadata": {
        "id": "view-in-github",
        "colab_type": "text"
      },
      "source": [
        "<a href=\"https://colab.research.google.com/github/SunForLife/raiffeisen/blob/master/home_credit_data.ipynb\" target=\"_parent\"><img src=\"https://colab.research.google.com/assets/colab-badge.svg\" alt=\"Open In Colab\"/></a>"
      ]
    },
    {
      "cell_type": "code",
      "metadata": {
        "id": "wwjRJHFhjH2R",
        "colab_type": "code",
        "colab": {
          "base_uri": "https://localhost:8080/",
          "height": 459
        },
        "outputId": "532c8f80-e6a7-4356-eecc-4e6875349f09"
      },
      "source": [
        "!pip install kaggle\n",
        "import json\n",
        "import zipfile\n",
        "import os\n",
        "!mkdir /root/.kaggle\n",
        "!echo '' > /root/.kaggle/kaggle.json\n",
        "!chmod 600 /root/.kaggle/kaggle.json\n",
        "!kaggle config path -p /root\n",
        "!kaggle competitions download -c home-credit-default-risk\n",
        "for file in os.listdir():\n",
        "    if not file.endswith('.zip'):\n",
        "        continue\n",
        "    zip_ref = zipfile.ZipFile(file, 'r')\n",
        "    zip_ref.extractall()\n",
        "    zip_ref.close()"
      ],
      "execution_count": null,
      "outputs": [
        {
          "output_type": "stream",
          "text": [
            "Requirement already satisfied: kaggle in /usr/local/lib/python3.6/dist-packages (1.5.8)\n",
            "Requirement already satisfied: urllib3<1.25,>=1.21.1 in /usr/local/lib/python3.6/dist-packages (from kaggle) (1.24.3)\n",
            "Requirement already satisfied: certifi in /usr/local/lib/python3.6/dist-packages (from kaggle) (2020.6.20)\n",
            "Requirement already satisfied: tqdm in /usr/local/lib/python3.6/dist-packages (from kaggle) (4.41.1)\n",
            "Requirement already satisfied: six>=1.10 in /usr/local/lib/python3.6/dist-packages (from kaggle) (1.15.0)\n",
            "Requirement already satisfied: python-slugify in /usr/local/lib/python3.6/dist-packages (from kaggle) (4.0.1)\n",
            "Requirement already satisfied: python-dateutil in /usr/local/lib/python3.6/dist-packages (from kaggle) (2.8.1)\n",
            "Requirement already satisfied: slugify in /usr/local/lib/python3.6/dist-packages (from kaggle) (0.0.1)\n",
            "Requirement already satisfied: requests in /usr/local/lib/python3.6/dist-packages (from kaggle) (2.23.0)\n",
            "Requirement already satisfied: text-unidecode>=1.3 in /usr/local/lib/python3.6/dist-packages (from python-slugify->kaggle) (1.3)\n",
            "Requirement already satisfied: chardet<4,>=3.0.2 in /usr/local/lib/python3.6/dist-packages (from requests->kaggle) (3.0.4)\n",
            "Requirement already satisfied: idna<3,>=2.5 in /usr/local/lib/python3.6/dist-packages (from requests->kaggle) (2.10)\n",
            "mkdir: cannot create directory ‘/root/.kaggle’: File exists\n",
            "usage: kaggle config [-h] {view,set,unset} ...\n",
            "kaggle config: error: argument command: invalid choice: 'path' (choose from 'view', 'set', 'unset')\n",
            "Warning: Looks like you're using an outdated API Version, please consider updating (server 1.5.6 / client 1.5.4)\n",
            "POS_CASH_balance.csv.zip: Skipping, found more recently modified local copy (use --force to force download)\n",
            "application_test.csv.zip: Skipping, found more recently modified local copy (use --force to force download)\n",
            "previous_application.csv.zip: Skipping, found more recently modified local copy (use --force to force download)\n",
            "installments_payments.csv.zip: Skipping, found more recently modified local copy (use --force to force download)\n",
            "credit_card_balance.csv.zip: Skipping, found more recently modified local copy (use --force to force download)\n",
            "bureau_balance.csv.zip: Skipping, found more recently modified local copy (use --force to force download)\n",
            "HomeCredit_columns_description.csv: Skipping, found more recently modified local copy (use --force to force download)\n",
            "application_train.csv.zip: Skipping, found more recently modified local copy (use --force to force download)\n",
            "sample_submission.csv: Skipping, found more recently modified local copy (use --force to force download)\n",
            "bureau.csv.zip: Skipping, found more recently modified local copy (use --force to force download)\n"
          ],
          "name": "stdout"
        }
      ]
    },
    {
      "cell_type": "code",
      "metadata": {
        "id": "J-d6AYG8na1D",
        "colab_type": "code",
        "colab": {}
      },
      "source": [
        "import pandas as pd\n",
        "import numpy as np\n",
        "from sklearn.model_selection import train_test_split\n",
        "from sklearn.linear_model import LinearRegression\n",
        "from sklearn.linear_model import LogisticRegression\n",
        "from sklearn.ensemble import GradientBoostingClassifier\n",
        "from sklearn.metrics import accuracy_score\n",
        "from sklearn.metrics import precision_score\n",
        "from sklearn.metrics import recall_score\n",
        "from sklearn.metrics import roc_auc_score\n",
        "from xgboost import XGBClassifier"
      ],
      "execution_count": null,
      "outputs": []
    },
    {
      "cell_type": "code",
      "metadata": {
        "id": "0C32160mkSzg",
        "colab_type": "code",
        "colab": {}
      },
      "source": [
        "train = pd.read_csv('application_train.csv')\n",
        "\n",
        "train_numeric = train.select_dtypes([np.number]).fillna(0)\n",
        "\n",
        "X = train_numeric.drop(labels=['TARGET'], axis=\"columns\")\n",
        "y = train_numeric['TARGET']\n",
        "\n",
        "X_train, X_test, y_train, y_test = train_test_split(X, y, test_size=0.2, random_state=42)"
      ],
      "execution_count": null,
      "outputs": []
    },
    {
      "cell_type": "code",
      "metadata": {
        "id": "QbJSb59_nYzn",
        "colab_type": "code",
        "colab": {}
      },
      "source": [
        "# reg = LogisticRegression(max_iter=1000000).fit(X_train, y_train)\n",
        "gb = XGBClassifier(tree_method='gpu_hist').fit(X_train, y_train)"
      ],
      "execution_count": null,
      "outputs": []
    },
    {
      "cell_type": "code",
      "metadata": {
        "id": "yL_UHMf3qQAp",
        "colab_type": "code",
        "colab": {
          "base_uri": "https://localhost:8080/",
          "height": 85
        },
        "outputId": "ed392f59-2ab5-4ee4-8f83-2c092119f3f6"
      },
      "source": [
        "print(accuracy_score(y_test, gb.predict(X_test)))\n",
        "print(precision_score(y_test, gb.predict(X_test)))\n",
        "print(recall_score(y_test, gb.predict(X_test)))\n",
        "print(roc_auc_score(y_test, gb.predict_proba(X_test)[:, 1]))"
      ],
      "execution_count": null,
      "outputs": [
        {
          "output_type": "stream",
          "text": [
            "0.9195811586426679\n",
            "0.56\n",
            "0.002828854314002829\n",
            "0.7436057604734183\n"
          ],
          "name": "stdout"
        }
      ]
    },
    {
      "cell_type": "code",
      "metadata": {
        "id": "VshPyOv7q0Hs",
        "colab_type": "code",
        "colab": {
          "base_uri": "https://localhost:8080/",
          "height": 541
        },
        "outputId": "4f4be295-5009-41a6-bea5-cbc8a82b6cc6"
      },
      "source": [
        "bureau = pd.read_csv('bureau.csv')\n",
        "\n",
        "bureau"
      ],
      "execution_count": null,
      "outputs": [
        {
          "output_type": "execute_result",
          "data": {
            "text/html": [
              "<div>\n",
              "<style scoped>\n",
              "    .dataframe tbody tr th:only-of-type {\n",
              "        vertical-align: middle;\n",
              "    }\n",
              "\n",
              "    .dataframe tbody tr th {\n",
              "        vertical-align: top;\n",
              "    }\n",
              "\n",
              "    .dataframe thead th {\n",
              "        text-align: right;\n",
              "    }\n",
              "</style>\n",
              "<table border=\"1\" class=\"dataframe\">\n",
              "  <thead>\n",
              "    <tr style=\"text-align: right;\">\n",
              "      <th></th>\n",
              "      <th>SK_ID_CURR</th>\n",
              "      <th>SK_ID_BUREAU</th>\n",
              "      <th>CREDIT_ACTIVE</th>\n",
              "      <th>CREDIT_CURRENCY</th>\n",
              "      <th>DAYS_CREDIT</th>\n",
              "      <th>CREDIT_DAY_OVERDUE</th>\n",
              "      <th>DAYS_CREDIT_ENDDATE</th>\n",
              "      <th>DAYS_ENDDATE_FACT</th>\n",
              "      <th>AMT_CREDIT_MAX_OVERDUE</th>\n",
              "      <th>CNT_CREDIT_PROLONG</th>\n",
              "      <th>AMT_CREDIT_SUM</th>\n",
              "      <th>AMT_CREDIT_SUM_DEBT</th>\n",
              "      <th>AMT_CREDIT_SUM_LIMIT</th>\n",
              "      <th>AMT_CREDIT_SUM_OVERDUE</th>\n",
              "      <th>CREDIT_TYPE</th>\n",
              "      <th>DAYS_CREDIT_UPDATE</th>\n",
              "      <th>AMT_ANNUITY</th>\n",
              "    </tr>\n",
              "  </thead>\n",
              "  <tbody>\n",
              "    <tr>\n",
              "      <th>0</th>\n",
              "      <td>215354</td>\n",
              "      <td>5714462</td>\n",
              "      <td>Closed</td>\n",
              "      <td>currency 1</td>\n",
              "      <td>-497</td>\n",
              "      <td>0</td>\n",
              "      <td>-153.0</td>\n",
              "      <td>-153.0</td>\n",
              "      <td>NaN</td>\n",
              "      <td>0</td>\n",
              "      <td>91323.00</td>\n",
              "      <td>0.0</td>\n",
              "      <td>NaN</td>\n",
              "      <td>0.0</td>\n",
              "      <td>Consumer credit</td>\n",
              "      <td>-131</td>\n",
              "      <td>NaN</td>\n",
              "    </tr>\n",
              "    <tr>\n",
              "      <th>1</th>\n",
              "      <td>215354</td>\n",
              "      <td>5714463</td>\n",
              "      <td>Active</td>\n",
              "      <td>currency 1</td>\n",
              "      <td>-208</td>\n",
              "      <td>0</td>\n",
              "      <td>1075.0</td>\n",
              "      <td>NaN</td>\n",
              "      <td>NaN</td>\n",
              "      <td>0</td>\n",
              "      <td>225000.00</td>\n",
              "      <td>171342.0</td>\n",
              "      <td>NaN</td>\n",
              "      <td>0.0</td>\n",
              "      <td>Credit card</td>\n",
              "      <td>-20</td>\n",
              "      <td>NaN</td>\n",
              "    </tr>\n",
              "    <tr>\n",
              "      <th>2</th>\n",
              "      <td>215354</td>\n",
              "      <td>5714464</td>\n",
              "      <td>Active</td>\n",
              "      <td>currency 1</td>\n",
              "      <td>-203</td>\n",
              "      <td>0</td>\n",
              "      <td>528.0</td>\n",
              "      <td>NaN</td>\n",
              "      <td>NaN</td>\n",
              "      <td>0</td>\n",
              "      <td>464323.50</td>\n",
              "      <td>NaN</td>\n",
              "      <td>NaN</td>\n",
              "      <td>0.0</td>\n",
              "      <td>Consumer credit</td>\n",
              "      <td>-16</td>\n",
              "      <td>NaN</td>\n",
              "    </tr>\n",
              "    <tr>\n",
              "      <th>3</th>\n",
              "      <td>215354</td>\n",
              "      <td>5714465</td>\n",
              "      <td>Active</td>\n",
              "      <td>currency 1</td>\n",
              "      <td>-203</td>\n",
              "      <td>0</td>\n",
              "      <td>NaN</td>\n",
              "      <td>NaN</td>\n",
              "      <td>NaN</td>\n",
              "      <td>0</td>\n",
              "      <td>90000.00</td>\n",
              "      <td>NaN</td>\n",
              "      <td>NaN</td>\n",
              "      <td>0.0</td>\n",
              "      <td>Credit card</td>\n",
              "      <td>-16</td>\n",
              "      <td>NaN</td>\n",
              "    </tr>\n",
              "    <tr>\n",
              "      <th>4</th>\n",
              "      <td>215354</td>\n",
              "      <td>5714466</td>\n",
              "      <td>Active</td>\n",
              "      <td>currency 1</td>\n",
              "      <td>-629</td>\n",
              "      <td>0</td>\n",
              "      <td>1197.0</td>\n",
              "      <td>NaN</td>\n",
              "      <td>77674.5</td>\n",
              "      <td>0</td>\n",
              "      <td>2700000.00</td>\n",
              "      <td>NaN</td>\n",
              "      <td>NaN</td>\n",
              "      <td>0.0</td>\n",
              "      <td>Consumer credit</td>\n",
              "      <td>-21</td>\n",
              "      <td>NaN</td>\n",
              "    </tr>\n",
              "    <tr>\n",
              "      <th>...</th>\n",
              "      <td>...</td>\n",
              "      <td>...</td>\n",
              "      <td>...</td>\n",
              "      <td>...</td>\n",
              "      <td>...</td>\n",
              "      <td>...</td>\n",
              "      <td>...</td>\n",
              "      <td>...</td>\n",
              "      <td>...</td>\n",
              "      <td>...</td>\n",
              "      <td>...</td>\n",
              "      <td>...</td>\n",
              "      <td>...</td>\n",
              "      <td>...</td>\n",
              "      <td>...</td>\n",
              "      <td>...</td>\n",
              "      <td>...</td>\n",
              "    </tr>\n",
              "    <tr>\n",
              "      <th>1716423</th>\n",
              "      <td>259355</td>\n",
              "      <td>5057750</td>\n",
              "      <td>Active</td>\n",
              "      <td>currency 1</td>\n",
              "      <td>-44</td>\n",
              "      <td>0</td>\n",
              "      <td>-30.0</td>\n",
              "      <td>NaN</td>\n",
              "      <td>0.0</td>\n",
              "      <td>0</td>\n",
              "      <td>11250.00</td>\n",
              "      <td>11250.0</td>\n",
              "      <td>0.0</td>\n",
              "      <td>0.0</td>\n",
              "      <td>Microloan</td>\n",
              "      <td>-19</td>\n",
              "      <td>NaN</td>\n",
              "    </tr>\n",
              "    <tr>\n",
              "      <th>1716424</th>\n",
              "      <td>100044</td>\n",
              "      <td>5057754</td>\n",
              "      <td>Closed</td>\n",
              "      <td>currency 1</td>\n",
              "      <td>-2648</td>\n",
              "      <td>0</td>\n",
              "      <td>-2433.0</td>\n",
              "      <td>-2493.0</td>\n",
              "      <td>5476.5</td>\n",
              "      <td>0</td>\n",
              "      <td>38130.84</td>\n",
              "      <td>0.0</td>\n",
              "      <td>0.0</td>\n",
              "      <td>0.0</td>\n",
              "      <td>Consumer credit</td>\n",
              "      <td>-2493</td>\n",
              "      <td>NaN</td>\n",
              "    </tr>\n",
              "    <tr>\n",
              "      <th>1716425</th>\n",
              "      <td>100044</td>\n",
              "      <td>5057762</td>\n",
              "      <td>Closed</td>\n",
              "      <td>currency 1</td>\n",
              "      <td>-1809</td>\n",
              "      <td>0</td>\n",
              "      <td>-1628.0</td>\n",
              "      <td>-970.0</td>\n",
              "      <td>NaN</td>\n",
              "      <td>0</td>\n",
              "      <td>15570.00</td>\n",
              "      <td>NaN</td>\n",
              "      <td>NaN</td>\n",
              "      <td>0.0</td>\n",
              "      <td>Consumer credit</td>\n",
              "      <td>-967</td>\n",
              "      <td>NaN</td>\n",
              "    </tr>\n",
              "    <tr>\n",
              "      <th>1716426</th>\n",
              "      <td>246829</td>\n",
              "      <td>5057770</td>\n",
              "      <td>Closed</td>\n",
              "      <td>currency 1</td>\n",
              "      <td>-1878</td>\n",
              "      <td>0</td>\n",
              "      <td>-1513.0</td>\n",
              "      <td>-1513.0</td>\n",
              "      <td>NaN</td>\n",
              "      <td>0</td>\n",
              "      <td>36000.00</td>\n",
              "      <td>0.0</td>\n",
              "      <td>0.0</td>\n",
              "      <td>0.0</td>\n",
              "      <td>Consumer credit</td>\n",
              "      <td>-1508</td>\n",
              "      <td>NaN</td>\n",
              "    </tr>\n",
              "    <tr>\n",
              "      <th>1716427</th>\n",
              "      <td>246829</td>\n",
              "      <td>5057778</td>\n",
              "      <td>Closed</td>\n",
              "      <td>currency 1</td>\n",
              "      <td>-463</td>\n",
              "      <td>0</td>\n",
              "      <td>NaN</td>\n",
              "      <td>-387.0</td>\n",
              "      <td>NaN</td>\n",
              "      <td>0</td>\n",
              "      <td>22500.00</td>\n",
              "      <td>0.0</td>\n",
              "      <td>NaN</td>\n",
              "      <td>0.0</td>\n",
              "      <td>Microloan</td>\n",
              "      <td>-387</td>\n",
              "      <td>NaN</td>\n",
              "    </tr>\n",
              "  </tbody>\n",
              "</table>\n",
              "<p>1716428 rows × 17 columns</p>\n",
              "</div>"
            ],
            "text/plain": [
              "         SK_ID_CURR  SK_ID_BUREAU  ... DAYS_CREDIT_UPDATE AMT_ANNUITY\n",
              "0            215354       5714462  ...               -131         NaN\n",
              "1            215354       5714463  ...                -20         NaN\n",
              "2            215354       5714464  ...                -16         NaN\n",
              "3            215354       5714465  ...                -16         NaN\n",
              "4            215354       5714466  ...                -21         NaN\n",
              "...             ...           ...  ...                ...         ...\n",
              "1716423      259355       5057750  ...                -19         NaN\n",
              "1716424      100044       5057754  ...              -2493         NaN\n",
              "1716425      100044       5057762  ...               -967         NaN\n",
              "1716426      246829       5057770  ...              -1508         NaN\n",
              "1716427      246829       5057778  ...               -387         NaN\n",
              "\n",
              "[1716428 rows x 17 columns]"
            ]
          },
          "metadata": {
            "tags": []
          },
          "execution_count": 46
        }
      ]
    },
    {
      "cell_type": "code",
      "metadata": {
        "id": "bl8Oo52HxFT8",
        "colab_type": "code",
        "colab": {}
      },
      "source": [
        "# Считаем активные и закрытые кредиты.\n",
        "cnt_active_loans = bureau[bureau.CREDIT_ACTIVE == 'Active'].groupby('SK_ID_CURR', as_index=False)['CREDIT_ACTIVE'].count()\n",
        "cnt_closed_loans = bureau[bureau.CREDIT_ACTIVE == 'Closed'].groupby('SK_ID_CURR', as_index=False)['CREDIT_ACTIVE'].count()"
      ],
      "execution_count": null,
      "outputs": []
    },
    {
      "cell_type": "code",
      "metadata": {
        "id": "qdl5VHCXtNgd",
        "colab_type": "code",
        "colab": {}
      },
      "source": [
        "# Мерджим наши новые фичи\n",
        "\n",
        "X_train = X_train.merge(cnt_active_loans, on = 'SK_ID_CURR', how = 'left').fillna(0)\n",
        "X_test = X_test.merge(cnt_active_loans, on = 'SK_ID_CURR', how = 'left').fillna(0)\n",
        "\n",
        "X_train = X_train.merge(cnt_closed_loans, on = 'SK_ID_CURR', how = 'left').fillna(0)\n",
        "X_test = X_test.merge(cnt_closed_loans, on = 'SK_ID_CURR', how = 'left').fillna(0)"
      ],
      "execution_count": null,
      "outputs": []
    },
    {
      "cell_type": "code",
      "metadata": {
        "id": "AeRFGj7v1S-J",
        "colab_type": "code",
        "colab": {}
      },
      "source": [
        "# Теперь посчитаем для всех числовых колонок статистику по ним, что так же будет\n",
        "# являтся хорошими фичами для нашей модели.\n",
        "\n",
        "cnt_numeric_fields_statistics = bureau.drop(columns = ['SK_ID_BUREAU']).groupby('SK_ID_CURR', as_index = False).agg(['min', 'max', 'mean', 'sum'])\n",
        "cnt_numeric_fields_statistics.reset_index(inplace=True)"
      ],
      "execution_count": null,
      "outputs": []
    },
    {
      "cell_type": "code",
      "metadata": {
        "id": "VPlllbMq7f2i",
        "colab_type": "code",
        "colab": {}
      },
      "source": [
        "columns = ['SK_ID_CURR']\n",
        "for column in cnt_numeric_fields_statistics.columns.levels[0]:\n",
        "    if column != 'SK_ID_CURR':\n",
        "        for stat in cnt_numeric_fields_statistics.columns.levels[1][:-1]:\n",
        "            columns.append('bureau_%s_%s' % (column, stat))\n",
        "\n",
        "cnt_numeric_fields_statistics.columns = columns"
      ],
      "execution_count": null,
      "outputs": []
    },
    {
      "cell_type": "code",
      "metadata": {
        "id": "n0sVoEWw-peI",
        "colab_type": "code",
        "colab": {}
      },
      "source": [
        "X_train = X_train.merge(cnt_numeric_fields_statistics, on = 'SK_ID_CURR', how = 'left').fillna(0)\n",
        "X_test = X_test.merge(cnt_numeric_fields_statistics, on = 'SK_ID_CURR', how = 'left').fillna(0)"
      ],
      "execution_count": null,
      "outputs": []
    },
    {
      "cell_type": "code",
      "metadata": {
        "id": "XaM7MRuOIHUq",
        "colab_type": "code",
        "colab": {}
      },
      "source": [
        "def one_hot_encoder(df):\n",
        "    categorical_columns = [col for col in df.columns if df[col].dtype == 'object']\n",
        "    return pd.get_dummies(df, columns=categorical_columns, dummy_na=True)"
      ],
      "execution_count": null,
      "outputs": []
    },
    {
      "cell_type": "code",
      "metadata": {
        "id": "Q6CaW568EQJ0",
        "colab_type": "code",
        "colab": {}
      },
      "source": [
        "credit_type_ohe = one_hot_encoder(bureau)\n",
        "\n",
        "credit_type_ohe = credit_type_ohe.groupby('SK_ID_CURR', as_index=False).count()\n",
        "\n",
        "X_train = X_train.merge(credit_type_ohe, on = 'SK_ID_CURR', how = 'left').fillna(0)\n",
        "X_test = X_test.merge(credit_type_ohe, on = 'SK_ID_CURR', how = 'left').fillna(0)"
      ],
      "execution_count": null,
      "outputs": []
    },
    {
      "cell_type": "code",
      "metadata": {
        "id": "mm7ihidateto",
        "colab_type": "code",
        "colab": {}
      },
      "source": [
        "gb_new = XGBClassifier(tree_method='gpu_hist').fit(X_train, y_train)"
      ],
      "execution_count": null,
      "outputs": []
    },
    {
      "cell_type": "code",
      "metadata": {
        "id": "MIxg-cfStlHJ",
        "colab_type": "code",
        "colab": {
          "base_uri": "https://localhost:8080/",
          "height": 85
        },
        "outputId": "ddfdc7e3-94d7-4130-ec21-c109fff779cb"
      },
      "source": [
        "print(accuracy_score(y_test, gb_new.predict(X_test)))\n",
        "print(precision_score(y_test, gb_new.predict(X_test)))\n",
        "print(recall_score(y_test, gb_new.predict(X_test)))\n",
        "print(roc_auc_score(y_test, gb_new.predict_proba(X_test)[:, 1]))"
      ],
      "execution_count": null,
      "outputs": [
        {
          "output_type": "stream",
          "text": [
            "0.9195974180121295\n",
            "0.5909090909090909\n",
            "0.0026267932915740554\n",
            "0.7468790050494389\n"
          ],
          "name": "stdout"
        }
      ]
    },
    {
      "cell_type": "code",
      "metadata": {
        "id": "Zd2-Y_R7txNO",
        "colab_type": "code",
        "colab": {}
      },
      "source": [
        ""
      ],
      "execution_count": null,
      "outputs": []
    }
  ]
}